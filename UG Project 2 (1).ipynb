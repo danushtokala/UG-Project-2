{
 "cells": [
  {
   "cell_type": "code",
   "execution_count": 1,
   "id": "1b1ce571",
   "metadata": {},
   "outputs": [],
   "source": [
    "import numpy as np\n",
    "import pandas as pd\n",
    "from matplotlib import pyplot as plt\n",
    "import seaborn as sns"
   ]
  },
  {
   "cell_type": "code",
   "execution_count": 2,
   "id": "365f367a",
   "metadata": {},
   "outputs": [
    {
     "data": {
      "text/html": [
       "<div>\n",
       "<style scoped>\n",
       "    .dataframe tbody tr th:only-of-type {\n",
       "        vertical-align: middle;\n",
       "    }\n",
       "\n",
       "    .dataframe tbody tr th {\n",
       "        vertical-align: top;\n",
       "    }\n",
       "\n",
       "    .dataframe thead th {\n",
       "        text-align: right;\n",
       "    }\n",
       "</style>\n",
       "<table border=\"1\" class=\"dataframe\">\n",
       "  <thead>\n",
       "    <tr style=\"text-align: right;\">\n",
       "      <th></th>\n",
       "      <th>Date</th>\n",
       "      <th>Forenoon/ Afternoon</th>\n",
       "      <th>Vehicle Registration Number</th>\n",
       "      <th>Vehicle category</th>\n",
       "      <th>Sub category</th>\n",
       "      <th>Laden / Unladen</th>\n",
       "      <th>Observed noise during vehicular passby, dB(A)</th>\n",
       "      <th>Background noise after passby, dB(A)</th>\n",
       "      <th>Vehicular speed, (km/h)</th>\n",
       "    </tr>\n",
       "  </thead>\n",
       "  <tbody>\n",
       "    <tr>\n",
       "      <th>0</th>\n",
       "      <td>19.12.2018</td>\n",
       "      <td>Forenoon</td>\n",
       "      <td>UP53CT8371</td>\n",
       "      <td>LMV</td>\n",
       "      <td>Jeep</td>\n",
       "      <td>Laden</td>\n",
       "      <td>76.9</td>\n",
       "      <td>63.8</td>\n",
       "      <td>50</td>\n",
       "    </tr>\n",
       "    <tr>\n",
       "      <th>1</th>\n",
       "      <td>19.12.2018</td>\n",
       "      <td>Forenoon</td>\n",
       "      <td>UP53CT0702</td>\n",
       "      <td>HCV</td>\n",
       "      <td>Bus</td>\n",
       "      <td>Laden</td>\n",
       "      <td>80.7</td>\n",
       "      <td>63.8</td>\n",
       "      <td>46</td>\n",
       "    </tr>\n",
       "    <tr>\n",
       "      <th>2</th>\n",
       "      <td>19.12.2018</td>\n",
       "      <td>Forenoon</td>\n",
       "      <td>UP57L2220</td>\n",
       "      <td>LMV</td>\n",
       "      <td>Car</td>\n",
       "      <td>Laden</td>\n",
       "      <td>69.4</td>\n",
       "      <td>63.8</td>\n",
       "      <td>56</td>\n",
       "    </tr>\n",
       "    <tr>\n",
       "      <th>3</th>\n",
       "      <td>19.12.2018</td>\n",
       "      <td>Forenoon</td>\n",
       "      <td>UP53BT3555</td>\n",
       "      <td>LMV</td>\n",
       "      <td>Jeep</td>\n",
       "      <td>Laden</td>\n",
       "      <td>72.9</td>\n",
       "      <td>63.8</td>\n",
       "      <td>42</td>\n",
       "    </tr>\n",
       "    <tr>\n",
       "      <th>4</th>\n",
       "      <td>19.12.2018</td>\n",
       "      <td>Forenoon</td>\n",
       "      <td>UP53AR6689</td>\n",
       "      <td>2- Wheeler</td>\n",
       "      <td>Scooty</td>\n",
       "      <td>Pillion</td>\n",
       "      <td>66.9</td>\n",
       "      <td>63.8</td>\n",
       "      <td>40</td>\n",
       "    </tr>\n",
       "    <tr>\n",
       "      <th>5</th>\n",
       "      <td>19.12.2018</td>\n",
       "      <td>Forenoon</td>\n",
       "      <td>UP53DT9536</td>\n",
       "      <td>LMV</td>\n",
       "      <td>Jeep</td>\n",
       "      <td>Unladen</td>\n",
       "      <td>78.1</td>\n",
       "      <td>63.8</td>\n",
       "      <td>38</td>\n",
       "    </tr>\n",
       "    <tr>\n",
       "      <th>6</th>\n",
       "      <td>19.12.2018</td>\n",
       "      <td>Forenoon</td>\n",
       "      <td>UP53CW9977</td>\n",
       "      <td>LMV</td>\n",
       "      <td>Car</td>\n",
       "      <td>Laden</td>\n",
       "      <td>68.7</td>\n",
       "      <td>63.8</td>\n",
       "      <td>50</td>\n",
       "    </tr>\n",
       "    <tr>\n",
       "      <th>7</th>\n",
       "      <td>19.12.2018</td>\n",
       "      <td>Forenoon</td>\n",
       "      <td>UP57AC9730</td>\n",
       "      <td>LMV</td>\n",
       "      <td>Car</td>\n",
       "      <td>Laden</td>\n",
       "      <td>70.4</td>\n",
       "      <td>63.8</td>\n",
       "      <td>56</td>\n",
       "    </tr>\n",
       "    <tr>\n",
       "      <th>8</th>\n",
       "      <td>19.12.2018</td>\n",
       "      <td>Forenoon</td>\n",
       "      <td>UP53DT3525</td>\n",
       "      <td>3- Wheeler</td>\n",
       "      <td>Auto</td>\n",
       "      <td>Laden</td>\n",
       "      <td>77.9</td>\n",
       "      <td>63.8</td>\n",
       "      <td>34</td>\n",
       "    </tr>\n",
       "    <tr>\n",
       "      <th>9</th>\n",
       "      <td>19.12.2018</td>\n",
       "      <td>Forenoon</td>\n",
       "      <td>UP53CY4702</td>\n",
       "      <td>LMV</td>\n",
       "      <td>Car</td>\n",
       "      <td>Laden</td>\n",
       "      <td>69.3</td>\n",
       "      <td>63.8</td>\n",
       "      <td>48</td>\n",
       "    </tr>\n",
       "  </tbody>\n",
       "</table>\n",
       "</div>"
      ],
      "text/plain": [
       "         Date Forenoon/ Afternoon Vehicle Registration Number  \\\n",
       "0  19.12.2018            Forenoon                  UP53CT8371   \n",
       "1  19.12.2018            Forenoon                  UP53CT0702   \n",
       "2  19.12.2018            Forenoon                   UP57L2220   \n",
       "3  19.12.2018            Forenoon                  UP53BT3555   \n",
       "4  19.12.2018            Forenoon                  UP53AR6689   \n",
       "5  19.12.2018            Forenoon                  UP53DT9536   \n",
       "6  19.12.2018            Forenoon                  UP53CW9977   \n",
       "7  19.12.2018            Forenoon                  UP57AC9730   \n",
       "8  19.12.2018            Forenoon                  UP53DT3525   \n",
       "9  19.12.2018            Forenoon                  UP53CY4702   \n",
       "\n",
       "  Vehicle category Sub category Laden / Unladen  \\\n",
       "0              LMV         Jeep           Laden   \n",
       "1              HCV          Bus           Laden   \n",
       "2              LMV          Car           Laden   \n",
       "3              LMV         Jeep           Laden   \n",
       "4       2- Wheeler       Scooty         Pillion   \n",
       "5              LMV         Jeep         Unladen   \n",
       "6              LMV          Car           Laden   \n",
       "7              LMV          Car           Laden   \n",
       "8       3- Wheeler         Auto           Laden   \n",
       "9              LMV          Car           Laden   \n",
       "\n",
       "   Observed noise during vehicular passby, dB(A)  \\\n",
       "0                                           76.9   \n",
       "1                                           80.7   \n",
       "2                                           69.4   \n",
       "3                                           72.9   \n",
       "4                                           66.9   \n",
       "5                                           78.1   \n",
       "6                                           68.7   \n",
       "7                                           70.4   \n",
       "8                                           77.9   \n",
       "9                                           69.3   \n",
       "\n",
       "   Background noise after passby, dB(A)  Vehicular speed, (km/h)  \n",
       "0                                  63.8                       50  \n",
       "1                                  63.8                       46  \n",
       "2                                  63.8                       56  \n",
       "3                                  63.8                       42  \n",
       "4                                  63.8                       40  \n",
       "5                                  63.8                       38  \n",
       "6                                  63.8                       50  \n",
       "7                                  63.8                       56  \n",
       "8                                  63.8                       34  \n",
       "9                                  63.8                       48  "
      ]
     },
     "execution_count": 2,
     "metadata": {},
     "output_type": "execute_result"
    }
   ],
   "source": [
    "df=pd.read_excel('New Microsoft Excel Worksheet.xlsx')\n",
    "df.head(10)"
   ]
  },
  {
   "cell_type": "code",
   "execution_count": 3,
   "id": "00f1cd09",
   "metadata": {},
   "outputs": [],
   "source": [
    "df.drop(['Date','Vehicle Registration Number','Vehicle category'],axis='columns',inplace=True)"
   ]
  },
  {
   "cell_type": "code",
   "execution_count": 4,
   "id": "044bdb6e",
   "metadata": {},
   "outputs": [
    {
     "data": {
      "text/html": [
       "<div>\n",
       "<style scoped>\n",
       "    .dataframe tbody tr th:only-of-type {\n",
       "        vertical-align: middle;\n",
       "    }\n",
       "\n",
       "    .dataframe tbody tr th {\n",
       "        vertical-align: top;\n",
       "    }\n",
       "\n",
       "    .dataframe thead th {\n",
       "        text-align: right;\n",
       "    }\n",
       "</style>\n",
       "<table border=\"1\" class=\"dataframe\">\n",
       "  <thead>\n",
       "    <tr style=\"text-align: right;\">\n",
       "      <th></th>\n",
       "      <th>Forenoon/ Afternoon</th>\n",
       "      <th>Sub category</th>\n",
       "      <th>Laden / Unladen</th>\n",
       "      <th>Observed noise during vehicular passby, dB(A)</th>\n",
       "      <th>Background noise after passby, dB(A)</th>\n",
       "      <th>Vehicular speed, (km/h)</th>\n",
       "    </tr>\n",
       "  </thead>\n",
       "  <tbody>\n",
       "    <tr>\n",
       "      <th>0</th>\n",
       "      <td>Forenoon</td>\n",
       "      <td>Jeep</td>\n",
       "      <td>Laden</td>\n",
       "      <td>76.9</td>\n",
       "      <td>63.8</td>\n",
       "      <td>50</td>\n",
       "    </tr>\n",
       "    <tr>\n",
       "      <th>1</th>\n",
       "      <td>Forenoon</td>\n",
       "      <td>Bus</td>\n",
       "      <td>Laden</td>\n",
       "      <td>80.7</td>\n",
       "      <td>63.8</td>\n",
       "      <td>46</td>\n",
       "    </tr>\n",
       "    <tr>\n",
       "      <th>2</th>\n",
       "      <td>Forenoon</td>\n",
       "      <td>Car</td>\n",
       "      <td>Laden</td>\n",
       "      <td>69.4</td>\n",
       "      <td>63.8</td>\n",
       "      <td>56</td>\n",
       "    </tr>\n",
       "    <tr>\n",
       "      <th>3</th>\n",
       "      <td>Forenoon</td>\n",
       "      <td>Jeep</td>\n",
       "      <td>Laden</td>\n",
       "      <td>72.9</td>\n",
       "      <td>63.8</td>\n",
       "      <td>42</td>\n",
       "    </tr>\n",
       "    <tr>\n",
       "      <th>4</th>\n",
       "      <td>Forenoon</td>\n",
       "      <td>Scooty</td>\n",
       "      <td>Pillion</td>\n",
       "      <td>66.9</td>\n",
       "      <td>63.8</td>\n",
       "      <td>40</td>\n",
       "    </tr>\n",
       "  </tbody>\n",
       "</table>\n",
       "</div>"
      ],
      "text/plain": [
       "  Forenoon/ Afternoon Sub category Laden / Unladen  \\\n",
       "0            Forenoon         Jeep           Laden   \n",
       "1            Forenoon          Bus           Laden   \n",
       "2            Forenoon          Car           Laden   \n",
       "3            Forenoon         Jeep           Laden   \n",
       "4            Forenoon       Scooty         Pillion   \n",
       "\n",
       "   Observed noise during vehicular passby, dB(A)  \\\n",
       "0                                           76.9   \n",
       "1                                           80.7   \n",
       "2                                           69.4   \n",
       "3                                           72.9   \n",
       "4                                           66.9   \n",
       "\n",
       "   Background noise after passby, dB(A)  Vehicular speed, (km/h)  \n",
       "0                                  63.8                       50  \n",
       "1                                  63.8                       46  \n",
       "2                                  63.8                       56  \n",
       "3                                  63.8                       42  \n",
       "4                                  63.8                       40  "
      ]
     },
     "execution_count": 4,
     "metadata": {},
     "output_type": "execute_result"
    }
   ],
   "source": [
    "df.head()"
   ]
  },
  {
   "cell_type": "code",
   "execution_count": 5,
   "id": "e82da370",
   "metadata": {
    "scrolled": true
   },
   "outputs": [
    {
     "name": "stdout",
     "output_type": "stream",
     "text": [
      "<class 'pandas.core.frame.DataFrame'>\n",
      "RangeIndex: 1094 entries, 0 to 1093\n",
      "Data columns (total 6 columns):\n",
      " #   Column                                         Non-Null Count  Dtype  \n",
      "---  ------                                         --------------  -----  \n",
      " 0   Forenoon/ Afternoon                            1094 non-null   object \n",
      " 1   Sub category                                   1094 non-null   object \n",
      " 2   Laden / Unladen                                1094 non-null   object \n",
      " 3   Observed noise during vehicular passby, dB(A)  1094 non-null   float64\n",
      " 4   Background noise after passby, dB(A)           1094 non-null   float64\n",
      " 5   Vehicular speed, (km/h)                        1094 non-null   int64  \n",
      "dtypes: float64(2), int64(1), object(3)\n",
      "memory usage: 51.4+ KB\n"
     ]
    }
   ],
   "source": [
    "df.info()"
   ]
  },
  {
   "cell_type": "code",
   "execution_count": 6,
   "id": "5b43dc7e",
   "metadata": {},
   "outputs": [
    {
     "data": {
      "text/html": [
       "<div>\n",
       "<style scoped>\n",
       "    .dataframe tbody tr th:only-of-type {\n",
       "        vertical-align: middle;\n",
       "    }\n",
       "\n",
       "    .dataframe tbody tr th {\n",
       "        vertical-align: top;\n",
       "    }\n",
       "\n",
       "    .dataframe thead th {\n",
       "        text-align: right;\n",
       "    }\n",
       "</style>\n",
       "<table border=\"1\" class=\"dataframe\">\n",
       "  <thead>\n",
       "    <tr style=\"text-align: right;\">\n",
       "      <th></th>\n",
       "      <th>Observed noise during vehicular passby, dB(A)</th>\n",
       "      <th>Background noise after passby, dB(A)</th>\n",
       "      <th>Vehicular speed, (km/h)</th>\n",
       "    </tr>\n",
       "  </thead>\n",
       "  <tbody>\n",
       "    <tr>\n",
       "      <th>count</th>\n",
       "      <td>1094.000000</td>\n",
       "      <td>1094.000000</td>\n",
       "      <td>1094.000000</td>\n",
       "    </tr>\n",
       "    <tr>\n",
       "      <th>mean</th>\n",
       "      <td>73.037459</td>\n",
       "      <td>59.575868</td>\n",
       "      <td>42.151737</td>\n",
       "    </tr>\n",
       "    <tr>\n",
       "      <th>std</th>\n",
       "      <td>5.257394</td>\n",
       "      <td>3.568553</td>\n",
       "      <td>9.752228</td>\n",
       "    </tr>\n",
       "    <tr>\n",
       "      <th>min</th>\n",
       "      <td>61.200000</td>\n",
       "      <td>54.900000</td>\n",
       "      <td>18.000000</td>\n",
       "    </tr>\n",
       "    <tr>\n",
       "      <th>25%</th>\n",
       "      <td>69.300000</td>\n",
       "      <td>54.900000</td>\n",
       "      <td>36.000000</td>\n",
       "    </tr>\n",
       "    <tr>\n",
       "      <th>50%</th>\n",
       "      <td>72.450000</td>\n",
       "      <td>61.200000</td>\n",
       "      <td>42.000000</td>\n",
       "    </tr>\n",
       "    <tr>\n",
       "      <th>75%</th>\n",
       "      <td>77.800000</td>\n",
       "      <td>62.000000</td>\n",
       "      <td>48.000000</td>\n",
       "    </tr>\n",
       "    <tr>\n",
       "      <th>max</th>\n",
       "      <td>97.300000</td>\n",
       "      <td>63.800000</td>\n",
       "      <td>78.000000</td>\n",
       "    </tr>\n",
       "  </tbody>\n",
       "</table>\n",
       "</div>"
      ],
      "text/plain": [
       "       Observed noise during vehicular passby, dB(A)  \\\n",
       "count                                    1094.000000   \n",
       "mean                                       73.037459   \n",
       "std                                         5.257394   \n",
       "min                                        61.200000   \n",
       "25%                                        69.300000   \n",
       "50%                                        72.450000   \n",
       "75%                                        77.800000   \n",
       "max                                        97.300000   \n",
       "\n",
       "       Background noise after passby, dB(A)  Vehicular speed, (km/h)  \n",
       "count                           1094.000000              1094.000000  \n",
       "mean                              59.575868                42.151737  \n",
       "std                                3.568553                 9.752228  \n",
       "min                               54.900000                18.000000  \n",
       "25%                               54.900000                36.000000  \n",
       "50%                               61.200000                42.000000  \n",
       "75%                               62.000000                48.000000  \n",
       "max                               63.800000                78.000000  "
      ]
     },
     "execution_count": 6,
     "metadata": {},
     "output_type": "execute_result"
    }
   ],
   "source": [
    "df.describe()"
   ]
  },
  {
   "cell_type": "code",
   "execution_count": 7,
   "id": "22248ad3",
   "metadata": {},
   "outputs": [
    {
     "data": {
      "text/plain": [
       "Text(0.5, 0, 'Value')"
      ]
     },
     "execution_count": 7,
     "metadata": {},
     "output_type": "execute_result"
    },
    {
     "data": {
      "image/png": "[encoded data removed]",
      "text/plain": [
       "<Figure size 432x288 with 1 Axes>"
      ]
     },
     "metadata": {
      "needs_background": "light"
     },
     "output_type": "display_data"
    }
   ],
   "source": [
    "df['Observed noise during vehicular passby, dB(A)'].value_counts().head(20).plot(kind='bar')\n",
    "plt.ylabel('frequency')\n",
    "plt.xlabel('Value')"
   ]
  },
  {
   "cell_type": "code",
   "execution_count": 8,
   "id": "bcb85666",
   "metadata": {},
   "outputs": [
    {
     "data": {
      "text/plain": [
       "Text(0.5, 0, 'Value')"
      ]
     },
     "execution_count": 8,
     "metadata": {},
     "output_type": "execute_result"
    },
    {
     "data": {
      "image/png": "[encoded data removed]",
      "text/plain": [
       "<Figure size 432x288 with 1 Axes>"
      ]
     },
     "metadata": {
      "needs_background": "light"
     },
     "output_type": "display_data"
    }
   ],
   "source": [
    "df['Vehicular speed, (km/h)'].value_counts().head(20).plot(kind='bar')\n",
    "plt.ylabel('frequency')\n",
    "plt.xlabel('Value')"
   ]
  },
  {
   "cell_type": "code",
   "execution_count": 9,
   "id": "36005ef1",
   "metadata": {},
   "outputs": [
    {
     "data": {
      "text/plain": [
       "Text(0.5, 0, 'Value')"
      ]
     },
     "execution_count": 9,
     "metadata": {},
     "output_type": "execute_result"
    },
    {
     "data": {
      "image/png": "[encoded data removed]",
      "text/plain": [
       "<Figure size 432x288 with 1 Axes>"
      ]
     },
     "metadata": {
      "needs_background": "light"
     },
     "output_type": "display_data"
    }
   ],
   "source": [
    "df['Vehicular speed, (km/h)'].value_counts().tail(20).plot(kind='bar')\n",
    "plt.ylabel('frequency')\n",
    "plt.xlabel('Value')"
   ]
  },
  {
   "cell_type": "code",
   "execution_count": 10,
   "id": "109ce9d8",
   "metadata": {},
   "outputs": [
    {
     "data": {
      "text/plain": [
       "<AxesSubplot:ylabel='Forenoon/ Afternoon'>"
      ]
     },
     "execution_count": 10,
     "metadata": {},
     "output_type": "execute_result"
    },
    {
     "data": {
      "image/png": "[encoded data removed]",
      "text/plain": [
       "<Figure size 432x288 with 1 Axes>"
      ]
     },
     "metadata": {},
     "output_type": "display_data"
    }
   ],
   "source": [
    "df['Forenoon/ Afternoon'].value_counts().plot(kind='pie',autopct='%1.1f%%')"
   ]
  },
  {
   "cell_type": "code",
   "execution_count": 11,
   "id": "756dabb4",
   "metadata": {
    "scrolled": true
   },
   "outputs": [
    {
     "data": {
      "text/plain": [
       "<AxesSubplot:ylabel='Sub category'>"
      ]
     },
     "execution_count": 11,
     "metadata": {},
     "output_type": "execute_result"
    },
    {
     "data": {
      "image/png": "[encoded data removed]",
      "text/plain": [
       "<Figure size 432x288 with 1 Axes>"
      ]
     },
     "metadata": {},
     "output_type": "display_data"
    }
   ],
   "source": [
    "df['Sub category'].value_counts().plot(kind='pie',autopct='%1.1f%%')"
   ]
  },
  {
   "cell_type": "code",
   "execution_count": 12,
   "id": "aa03d3a3",
   "metadata": {},
   "outputs": [
    {
     "data": {
      "text/plain": [
       "<AxesSubplot:>"
      ]
     },
     "execution_count": 12,
     "metadata": {},
     "output_type": "execute_result"
    },
    {
     "data": {
      "image/png": "[encoded data removed]",
      "text/plain": [
       "<Figure size 432x288 with 1 Axes>"
      ]
     },
     "metadata": {
      "needs_background": "light"
     },
     "output_type": "display_data"
    }
   ],
   "source": [
    "df['Background noise after passby, dB(A)'].value_counts().plot(kind='bar')"
   ]
  },
  {
   "cell_type": "code",
   "execution_count": 13,
   "id": "5586a99b",
   "metadata": {
    "scrolled": true
   },
   "outputs": [
    {
     "data": {
      "text/plain": [
       "Car             432\n",
       "Bike            208\n",
       "Auto            171\n",
       "Bus             121\n",
       "Jeep             73\n",
       "Scooty           32\n",
       "With trailer     29\n",
       "Truck(s)         21\n",
       "JCB               5\n",
       "Mini Bus          1\n",
       "Mini Truck        1\n",
       "Name: Sub category, dtype: int64"
      ]
     },
     "execution_count": 13,
     "metadata": {},
     "output_type": "execute_result"
    }
   ],
   "source": [
    "df['Sub category'].value_counts()"
   ]
  },
  {
   "cell_type": "code",
   "execution_count": 14,
   "id": "640f39c2",
   "metadata": {},
   "outputs": [],
   "source": [
    "df=df[df['Sub category']!='JCB']\n",
    "df=df[df['Sub category']!='Mini Bus']\n",
    "df=df[df['Sub category']!='Mini Truck']"
   ]
  },
  {
   "cell_type": "code",
   "execution_count": 15,
   "id": "554ce651",
   "metadata": {},
   "outputs": [
    {
     "data": {
      "text/plain": [
       "Laden      843\n",
       "Single     121\n",
       "Pillion    118\n",
       "Unladen      5\n",
       "Name: Laden / Unladen, dtype: int64"
      ]
     },
     "execution_count": 15,
     "metadata": {},
     "output_type": "execute_result"
    }
   ],
   "source": [
    "df['Laden / Unladen'].value_counts()"
   ]
  },
  {
   "cell_type": "code",
   "execution_count": 16,
   "id": "54dbc62b",
   "metadata": {},
   "outputs": [],
   "source": [
    "df=df[df['Laden / Unladen']!='Unladen']"
   ]
  },
  {
   "cell_type": "code",
   "execution_count": 17,
   "id": "a32abcec",
   "metadata": {},
   "outputs": [
    {
     "data": {
      "text/plain": [
       "54.9    380\n",
       "61.2    268\n",
       "63.8    206\n",
       "61.5    149\n",
       "62.0     79\n",
       "Name: Background noise after passby, dB(A), dtype: int64"
      ]
     },
     "execution_count": 17,
     "metadata": {},
     "output_type": "execute_result"
    }
   ],
   "source": [
    "df['Background noise after passby, dB(A)'].value_counts()"
   ]
  },
  {
   "cell_type": "code",
   "execution_count": 18,
   "id": "96ea70a9",
   "metadata": {
    "scrolled": true
   },
   "outputs": [
    {
     "data": {
      "text/html": [
       "<div>\n",
       "<style scoped>\n",
       "    .dataframe tbody tr th:only-of-type {\n",
       "        vertical-align: middle;\n",
       "    }\n",
       "\n",
       "    .dataframe tbody tr th {\n",
       "        vertical-align: top;\n",
       "    }\n",
       "\n",
       "    .dataframe thead th {\n",
       "        text-align: right;\n",
       "    }\n",
       "</style>\n",
       "<table border=\"1\" class=\"dataframe\">\n",
       "  <thead>\n",
       "    <tr style=\"text-align: right;\">\n",
       "      <th></th>\n",
       "      <th>Observed noise during vehicular passby, dB(A)</th>\n",
       "      <th>Background noise after passby, dB(A)</th>\n",
       "      <th>Vehicular speed, (km/h)</th>\n",
       "      <th>Forenoon/ Afternoon_Afternoon</th>\n",
       "      <th>Forenoon/ Afternoon_Forenoon</th>\n",
       "      <th>Sub category_Auto</th>\n",
       "      <th>Sub category_Bike</th>\n",
       "      <th>Sub category_Bus</th>\n",
       "      <th>Sub category_Car</th>\n",
       "      <th>Sub category_Jeep</th>\n",
       "      <th>Sub category_Scooty</th>\n",
       "      <th>Sub category_Truck(s)</th>\n",
       "      <th>Sub category_With trailer</th>\n",
       "      <th>Laden / Unladen_Laden</th>\n",
       "      <th>Laden / Unladen_Pillion</th>\n",
       "      <th>Laden / Unladen_Single</th>\n",
       "    </tr>\n",
       "  </thead>\n",
       "  <tbody>\n",
       "    <tr>\n",
       "      <th>0</th>\n",
       "      <td>76.9</td>\n",
       "      <td>63.8</td>\n",
       "      <td>50</td>\n",
       "      <td>0</td>\n",
       "      <td>1</td>\n",
       "      <td>0</td>\n",
       "      <td>0</td>\n",
       "      <td>0</td>\n",
       "      <td>0</td>\n",
       "      <td>1</td>\n",
       "      <td>0</td>\n",
       "      <td>0</td>\n",
       "      <td>0</td>\n",
       "      <td>1</td>\n",
       "      <td>0</td>\n",
       "      <td>0</td>\n",
       "    </tr>\n",
       "    <tr>\n",
       "      <th>1</th>\n",
       "      <td>80.7</td>\n",
       "      <td>63.8</td>\n",
       "      <td>46</td>\n",
       "      <td>0</td>\n",
       "      <td>1</td>\n",
       "      <td>0</td>\n",
       "      <td>0</td>\n",
       "      <td>1</td>\n",
       "      <td>0</td>\n",
       "      <td>0</td>\n",
       "      <td>0</td>\n",
       "      <td>0</td>\n",
       "      <td>0</td>\n",
       "      <td>1</td>\n",
       "      <td>0</td>\n",
       "      <td>0</td>\n",
       "    </tr>\n",
       "    <tr>\n",
       "      <th>2</th>\n",
       "      <td>69.4</td>\n",
       "      <td>63.8</td>\n",
       "      <td>56</td>\n",
       "      <td>0</td>\n",
       "      <td>1</td>\n",
       "      <td>0</td>\n",
       "      <td>0</td>\n",
       "      <td>0</td>\n",
       "      <td>1</td>\n",
       "      <td>0</td>\n",
       "      <td>0</td>\n",
       "      <td>0</td>\n",
       "      <td>0</td>\n",
       "      <td>1</td>\n",
       "      <td>0</td>\n",
       "      <td>0</td>\n",
       "    </tr>\n",
       "    <tr>\n",
       "      <th>3</th>\n",
       "      <td>72.9</td>\n",
       "      <td>63.8</td>\n",
       "      <td>42</td>\n",
       "      <td>0</td>\n",
       "      <td>1</td>\n",
       "      <td>0</td>\n",
       "      <td>0</td>\n",
       "      <td>0</td>\n",
       "      <td>0</td>\n",
       "      <td>1</td>\n",
       "      <td>0</td>\n",
       "      <td>0</td>\n",
       "      <td>0</td>\n",
       "      <td>1</td>\n",
       "      <td>0</td>\n",
       "      <td>0</td>\n",
       "    </tr>\n",
       "    <tr>\n",
       "      <th>4</th>\n",
       "      <td>66.9</td>\n",
       "      <td>63.8</td>\n",
       "      <td>40</td>\n",
       "      <td>0</td>\n",
       "      <td>1</td>\n",
       "      <td>0</td>\n",
       "      <td>0</td>\n",
       "      <td>0</td>\n",
       "      <td>0</td>\n",
       "      <td>0</td>\n",
       "      <td>1</td>\n",
       "      <td>0</td>\n",
       "      <td>0</td>\n",
       "      <td>0</td>\n",
       "      <td>1</td>\n",
       "      <td>0</td>\n",
       "    </tr>\n",
       "  </tbody>\n",
       "</table>\n",
       "</div>"
      ],
      "text/plain": [
       "   Observed noise during vehicular passby, dB(A)  \\\n",
       "0                                           76.9   \n",
       "1                                           80.7   \n",
       "2                                           69.4   \n",
       "3                                           72.9   \n",
       "4                                           66.9   \n",
       "\n",
       "   Background noise after passby, dB(A)  Vehicular speed, (km/h)  \\\n",
       "0                                  63.8                       50   \n",
       "1                                  63.8                       46   \n",
       "2                                  63.8                       56   \n",
       "3                                  63.8                       42   \n",
       "4                                  63.8                       40   \n",
       "\n",
       "   Forenoon/ Afternoon_Afternoon  Forenoon/ Afternoon_Forenoon  \\\n",
       "0                              0                             1   \n",
       "1                              0                             1   \n",
       "2                              0                             1   \n",
       "3                              0                             1   \n",
       "4                              0                             1   \n",
       "\n",
       "   Sub category_Auto  Sub category_Bike  Sub category_Bus  Sub category_Car  \\\n",
       "0                  0                  0                 0                 0   \n",
       "1                  0                  0                 1                 0   \n",
       "2                  0                  0                 0                 1   \n",
       "3                  0                  0                 0                 0   \n",
       "4                  0                  0                 0                 0   \n",
       "\n",
       "   Sub category_Jeep  Sub category_Scooty  Sub category_Truck(s)  \\\n",
       "0                  1                    0                      0   \n",
       "1                  0                    0                      0   \n",
       "2                  0                    0                      0   \n",
       "3                  1                    0                      0   \n",
       "4                  0                    1                      0   \n",
       "\n",
       "   Sub category_With trailer  Laden / Unladen_Laden  Laden / Unladen_Pillion  \\\n",
       "0                          0                      1                        0   \n",
       "1                          0                      1                        0   \n",
       "2                          0                      1                        0   \n",
       "3                          0                      1                        0   \n",
       "4                          0                      0                        1   \n",
       "\n",
       "   Laden / Unladen_Single  \n",
       "0                       0  \n",
       "1                       0  \n",
       "2                       0  \n",
       "3                       0  \n",
       "4                       0  "
      ]
     },
     "execution_count": 18,
     "metadata": {},
     "output_type": "execute_result"
    }
   ],
   "source": [
    "dummies=pd.get_dummies(df)\n",
    "dummies.head()"
   ]
  },
  {
   "cell_type": "code",
   "execution_count": 19,
   "id": "0aa07e71",
   "metadata": {
    "scrolled": true
   },
   "outputs": [
    {
     "data": {
      "text/html": [
       "<div>\n",
       "<style scoped>\n",
       "    .dataframe tbody tr th:only-of-type {\n",
       "        vertical-align: middle;\n",
       "    }\n",
       "\n",
       "    .dataframe tbody tr th {\n",
       "        vertical-align: top;\n",
       "    }\n",
       "\n",
       "    .dataframe thead th {\n",
       "        text-align: right;\n",
       "    }\n",
       "</style>\n",
       "<table border=\"1\" class=\"dataframe\">\n",
       "  <thead>\n",
       "    <tr style=\"text-align: right;\">\n",
       "      <th></th>\n",
       "      <th>Forenoon/ Afternoon</th>\n",
       "      <th>Sub category</th>\n",
       "      <th>Laden / Unladen</th>\n",
       "      <th>Observed noise during vehicular passby, dB(A)</th>\n",
       "      <th>Background noise after passby, dB(A)</th>\n",
       "      <th>Vehicular speed, (km/h)</th>\n",
       "    </tr>\n",
       "  </thead>\n",
       "  <tbody>\n",
       "    <tr>\n",
       "      <th>0</th>\n",
       "      <td>Forenoon</td>\n",
       "      <td>Jeep</td>\n",
       "      <td>Laden</td>\n",
       "      <td>76.9</td>\n",
       "      <td>63.8</td>\n",
       "      <td>50</td>\n",
       "    </tr>\n",
       "    <tr>\n",
       "      <th>1</th>\n",
       "      <td>Forenoon</td>\n",
       "      <td>Bus</td>\n",
       "      <td>Laden</td>\n",
       "      <td>80.7</td>\n",
       "      <td>63.8</td>\n",
       "      <td>46</td>\n",
       "    </tr>\n",
       "    <tr>\n",
       "      <th>2</th>\n",
       "      <td>Forenoon</td>\n",
       "      <td>Car</td>\n",
       "      <td>Laden</td>\n",
       "      <td>69.4</td>\n",
       "      <td>63.8</td>\n",
       "      <td>56</td>\n",
       "    </tr>\n",
       "    <tr>\n",
       "      <th>3</th>\n",
       "      <td>Forenoon</td>\n",
       "      <td>Jeep</td>\n",
       "      <td>Laden</td>\n",
       "      <td>72.9</td>\n",
       "      <td>63.8</td>\n",
       "      <td>42</td>\n",
       "    </tr>\n",
       "    <tr>\n",
       "      <th>4</th>\n",
       "      <td>Forenoon</td>\n",
       "      <td>Scooty</td>\n",
       "      <td>Pillion</td>\n",
       "      <td>66.9</td>\n",
       "      <td>63.8</td>\n",
       "      <td>40</td>\n",
       "    </tr>\n",
       "    <tr>\n",
       "      <th>6</th>\n",
       "      <td>Forenoon</td>\n",
       "      <td>Car</td>\n",
       "      <td>Laden</td>\n",
       "      <td>68.7</td>\n",
       "      <td>63.8</td>\n",
       "      <td>50</td>\n",
       "    </tr>\n",
       "    <tr>\n",
       "      <th>7</th>\n",
       "      <td>Forenoon</td>\n",
       "      <td>Car</td>\n",
       "      <td>Laden</td>\n",
       "      <td>70.4</td>\n",
       "      <td>63.8</td>\n",
       "      <td>56</td>\n",
       "    </tr>\n",
       "    <tr>\n",
       "      <th>8</th>\n",
       "      <td>Forenoon</td>\n",
       "      <td>Auto</td>\n",
       "      <td>Laden</td>\n",
       "      <td>77.9</td>\n",
       "      <td>63.8</td>\n",
       "      <td>34</td>\n",
       "    </tr>\n",
       "    <tr>\n",
       "      <th>9</th>\n",
       "      <td>Forenoon</td>\n",
       "      <td>Car</td>\n",
       "      <td>Laden</td>\n",
       "      <td>69.3</td>\n",
       "      <td>63.8</td>\n",
       "      <td>48</td>\n",
       "    </tr>\n",
       "    <tr>\n",
       "      <th>10</th>\n",
       "      <td>Forenoon</td>\n",
       "      <td>Car</td>\n",
       "      <td>Laden</td>\n",
       "      <td>72.1</td>\n",
       "      <td>63.8</td>\n",
       "      <td>53</td>\n",
       "    </tr>\n",
       "  </tbody>\n",
       "</table>\n",
       "</div>"
      ],
      "text/plain": [
       "   Forenoon/ Afternoon Sub category Laden / Unladen  \\\n",
       "0             Forenoon         Jeep           Laden   \n",
       "1             Forenoon          Bus           Laden   \n",
       "2             Forenoon          Car           Laden   \n",
       "3             Forenoon         Jeep           Laden   \n",
       "4             Forenoon       Scooty         Pillion   \n",
       "6             Forenoon          Car           Laden   \n",
       "7             Forenoon          Car           Laden   \n",
       "8             Forenoon         Auto           Laden   \n",
       "9             Forenoon          Car           Laden   \n",
       "10            Forenoon          Car           Laden   \n",
       "\n",
       "    Observed noise during vehicular passby, dB(A)  \\\n",
       "0                                            76.9   \n",
       "1                                            80.7   \n",
       "2                                            69.4   \n",
       "3                                            72.9   \n",
       "4                                            66.9   \n",
       "6                                            68.7   \n",
       "7                                            70.4   \n",
       "8                                            77.9   \n",
       "9                                            69.3   \n",
       "10                                           72.1   \n",
       "\n",
       "    Background noise after passby, dB(A)  Vehicular speed, (km/h)  \n",
       "0                                   63.8                       50  \n",
       "1                                   63.8                       46  \n",
       "2                                   63.8                       56  \n",
       "3                                   63.8                       42  \n",
       "4                                   63.8                       40  \n",
       "6                                   63.8                       50  \n",
       "7                                   63.8                       56  \n",
       "8                                   63.8                       34  \n",
       "9                                   63.8                       48  \n",
       "10                                  63.8                       53  "
      ]
     },
     "execution_count": 19,
     "metadata": {},
     "output_type": "execute_result"
    }
   ],
   "source": [
    "df.head(10)"
   ]
  },
  {
   "cell_type": "code",
   "execution_count": 20,
   "id": "16f211cd",
   "metadata": {},
   "outputs": [],
   "source": [
    "from sklearn.preprocessing import StandardScaler"
   ]
  },
  {
   "cell_type": "code",
   "execution_count": 21,
   "id": "d4444feb",
   "metadata": {},
   "outputs": [],
   "source": [
    "scaler=StandardScaler()"
   ]
  },
  {
   "cell_type": "code",
   "execution_count": 22,
   "id": "91f7ec37",
   "metadata": {},
   "outputs": [],
   "source": [
    "inputs=dummies.drop(['Observed noise during vehicular passby, dB(A)','Background noise after passby, dB(A)'],axis=1)"
   ]
  },
  {
   "cell_type": "code",
   "execution_count": 23,
   "id": "a94b4e4d",
   "metadata": {},
   "outputs": [],
   "source": [
    "target=dummies['Observed noise during vehicular passby, dB(A)']"
   ]
  },
  {
   "cell_type": "code",
   "execution_count": 24,
   "id": "101c4ca5",
   "metadata": {},
   "outputs": [],
   "source": [
    "from sklearn.model_selection import train_test_split"
   ]
  },
  {
   "cell_type": "code",
   "execution_count": 25,
   "id": "5df87166",
   "metadata": {},
   "outputs": [],
   "source": [
    "x_train,x_test,y_train,y_test=train_test_split(inputs,target,test_size=0.2,shuffle=False)"
   ]
  },
  {
   "cell_type": "code",
   "execution_count": 26,
   "id": "60879647",
   "metadata": {
    "scrolled": true
   },
   "outputs": [
    {
     "data": {
      "text/html": [
       "<div>\n",
       "<style scoped>\n",
       "    .dataframe tbody tr th:only-of-type {\n",
       "        vertical-align: middle;\n",
       "    }\n",
       "\n",
       "    .dataframe tbody tr th {\n",
       "        vertical-align: top;\n",
       "    }\n",
       "\n",
       "    .dataframe thead th {\n",
       "        text-align: right;\n",
       "    }\n",
       "</style>\n",
       "<table border=\"1\" class=\"dataframe\">\n",
       "  <thead>\n",
       "    <tr style=\"text-align: right;\">\n",
       "      <th></th>\n",
       "      <th>Vehicular speed, (km/h)</th>\n",
       "      <th>Forenoon/ Afternoon_Afternoon</th>\n",
       "      <th>Forenoon/ Afternoon_Forenoon</th>\n",
       "      <th>Sub category_Auto</th>\n",
       "      <th>Sub category_Bike</th>\n",
       "      <th>Sub category_Bus</th>\n",
       "      <th>Sub category_Car</th>\n",
       "      <th>Sub category_Jeep</th>\n",
       "      <th>Sub category_Scooty</th>\n",
       "      <th>Sub category_Truck(s)</th>\n",
       "      <th>Sub category_With trailer</th>\n",
       "      <th>Laden / Unladen_Laden</th>\n",
       "      <th>Laden / Unladen_Pillion</th>\n",
       "      <th>Laden / Unladen_Single</th>\n",
       "    </tr>\n",
       "  </thead>\n",
       "  <tbody>\n",
       "    <tr>\n",
       "      <th>0</th>\n",
       "      <td>50</td>\n",
       "      <td>0</td>\n",
       "      <td>1</td>\n",
       "      <td>0</td>\n",
       "      <td>0</td>\n",
       "      <td>0</td>\n",
       "      <td>0</td>\n",
       "      <td>1</td>\n",
       "      <td>0</td>\n",
       "      <td>0</td>\n",
       "      <td>0</td>\n",
       "      <td>1</td>\n",
       "      <td>0</td>\n",
       "      <td>0</td>\n",
       "    </tr>\n",
       "    <tr>\n",
       "      <th>1</th>\n",
       "      <td>46</td>\n",
       "      <td>0</td>\n",
       "      <td>1</td>\n",
       "      <td>0</td>\n",
       "      <td>0</td>\n",
       "      <td>1</td>\n",
       "      <td>0</td>\n",
       "      <td>0</td>\n",
       "      <td>0</td>\n",
       "      <td>0</td>\n",
       "      <td>0</td>\n",
       "      <td>1</td>\n",
       "      <td>0</td>\n",
       "      <td>0</td>\n",
       "    </tr>\n",
       "    <tr>\n",
       "      <th>2</th>\n",
       "      <td>56</td>\n",
       "      <td>0</td>\n",
       "      <td>1</td>\n",
       "      <td>0</td>\n",
       "      <td>0</td>\n",
       "      <td>0</td>\n",
       "      <td>1</td>\n",
       "      <td>0</td>\n",
       "      <td>0</td>\n",
       "      <td>0</td>\n",
       "      <td>0</td>\n",
       "      <td>1</td>\n",
       "      <td>0</td>\n",
       "      <td>0</td>\n",
       "    </tr>\n",
       "    <tr>\n",
       "      <th>3</th>\n",
       "      <td>42</td>\n",
       "      <td>0</td>\n",
       "      <td>1</td>\n",
       "      <td>0</td>\n",
       "      <td>0</td>\n",
       "      <td>0</td>\n",
       "      <td>0</td>\n",
       "      <td>1</td>\n",
       "      <td>0</td>\n",
       "      <td>0</td>\n",
       "      <td>0</td>\n",
       "      <td>1</td>\n",
       "      <td>0</td>\n",
       "      <td>0</td>\n",
       "    </tr>\n",
       "    <tr>\n",
       "      <th>4</th>\n",
       "      <td>40</td>\n",
       "      <td>0</td>\n",
       "      <td>1</td>\n",
       "      <td>0</td>\n",
       "      <td>0</td>\n",
       "      <td>0</td>\n",
       "      <td>0</td>\n",
       "      <td>0</td>\n",
       "      <td>1</td>\n",
       "      <td>0</td>\n",
       "      <td>0</td>\n",
       "      <td>0</td>\n",
       "      <td>1</td>\n",
       "      <td>0</td>\n",
       "    </tr>\n",
       "  </tbody>\n",
       "</table>\n",
       "</div>"
      ],
      "text/plain": [
       "   Vehicular speed, (km/h)  Forenoon/ Afternoon_Afternoon  \\\n",
       "0                       50                              0   \n",
       "1                       46                              0   \n",
       "2                       56                              0   \n",
       "3                       42                              0   \n",
       "4                       40                              0   \n",
       "\n",
       "   Forenoon/ Afternoon_Forenoon  Sub category_Auto  Sub category_Bike  \\\n",
       "0                             1                  0                  0   \n",
       "1                             1                  0                  0   \n",
       "2                             1                  0                  0   \n",
       "3                             1                  0                  0   \n",
       "4                             1                  0                  0   \n",
       "\n",
       "   Sub category_Bus  Sub category_Car  Sub category_Jeep  Sub category_Scooty  \\\n",
       "0                 0                 0                  1                    0   \n",
       "1                 1                 0                  0                    0   \n",
       "2                 0                 1                  0                    0   \n",
       "3                 0                 0                  1                    0   \n",
       "4                 0                 0                  0                    1   \n",
       "\n",
       "   Sub category_Truck(s)  Sub category_With trailer  Laden / Unladen_Laden  \\\n",
       "0                      0                          0                      1   \n",
       "1                      0                          0                      1   \n",
       "2                      0                          0                      1   \n",
       "3                      0                          0                      1   \n",
       "4                      0                          0                      0   \n",
       "\n",
       "   Laden / Unladen_Pillion  Laden / Unladen_Single  \n",
       "0                        0                       0  \n",
       "1                        0                       0  \n",
       "2                        0                       0  \n",
       "3                        0                       0  \n",
       "4                        1                       0  "
      ]
     },
     "execution_count": 26,
     "metadata": {},
     "output_type": "execute_result"
    }
   ],
   "source": [
    "x_train.head()"
   ]
  },
  {
   "cell_type": "code",
   "execution_count": 27,
   "id": "84174d13",
   "metadata": {},
   "outputs": [
    {
     "data": {
      "text/html": [
       "<div>\n",
       "<style scoped>\n",
       "    .dataframe tbody tr th:only-of-type {\n",
       "        vertical-align: middle;\n",
       "    }\n",
       "\n",
       "    .dataframe tbody tr th {\n",
       "        vertical-align: top;\n",
       "    }\n",
       "\n",
       "    .dataframe thead th {\n",
       "        text-align: right;\n",
       "    }\n",
       "</style>\n",
       "<table border=\"1\" class=\"dataframe\">\n",
       "  <thead>\n",
       "    <tr style=\"text-align: right;\">\n",
       "      <th></th>\n",
       "      <th>Vehicular speed, (km/h)</th>\n",
       "      <th>Forenoon/ Afternoon_Afternoon</th>\n",
       "      <th>Forenoon/ Afternoon_Forenoon</th>\n",
       "      <th>Sub category_Auto</th>\n",
       "      <th>Sub category_Bike</th>\n",
       "      <th>Sub category_Bus</th>\n",
       "      <th>Sub category_Car</th>\n",
       "      <th>Sub category_Jeep</th>\n",
       "      <th>Sub category_Scooty</th>\n",
       "      <th>Sub category_Truck(s)</th>\n",
       "      <th>Sub category_With trailer</th>\n",
       "      <th>Laden / Unladen_Laden</th>\n",
       "      <th>Laden / Unladen_Pillion</th>\n",
       "      <th>Laden / Unladen_Single</th>\n",
       "    </tr>\n",
       "  </thead>\n",
       "  <tbody>\n",
       "    <tr>\n",
       "      <th>876</th>\n",
       "      <td>41</td>\n",
       "      <td>1</td>\n",
       "      <td>0</td>\n",
       "      <td>1</td>\n",
       "      <td>0</td>\n",
       "      <td>0</td>\n",
       "      <td>0</td>\n",
       "      <td>0</td>\n",
       "      <td>0</td>\n",
       "      <td>0</td>\n",
       "      <td>0</td>\n",
       "      <td>1</td>\n",
       "      <td>0</td>\n",
       "      <td>0</td>\n",
       "    </tr>\n",
       "    <tr>\n",
       "      <th>877</th>\n",
       "      <td>71</td>\n",
       "      <td>1</td>\n",
       "      <td>0</td>\n",
       "      <td>0</td>\n",
       "      <td>0</td>\n",
       "      <td>0</td>\n",
       "      <td>1</td>\n",
       "      <td>0</td>\n",
       "      <td>0</td>\n",
       "      <td>0</td>\n",
       "      <td>0</td>\n",
       "      <td>1</td>\n",
       "      <td>0</td>\n",
       "      <td>0</td>\n",
       "    </tr>\n",
       "    <tr>\n",
       "      <th>878</th>\n",
       "      <td>78</td>\n",
       "      <td>1</td>\n",
       "      <td>0</td>\n",
       "      <td>0</td>\n",
       "      <td>0</td>\n",
       "      <td>0</td>\n",
       "      <td>1</td>\n",
       "      <td>0</td>\n",
       "      <td>0</td>\n",
       "      <td>0</td>\n",
       "      <td>0</td>\n",
       "      <td>1</td>\n",
       "      <td>0</td>\n",
       "      <td>0</td>\n",
       "    </tr>\n",
       "    <tr>\n",
       "      <th>879</th>\n",
       "      <td>63</td>\n",
       "      <td>1</td>\n",
       "      <td>0</td>\n",
       "      <td>0</td>\n",
       "      <td>0</td>\n",
       "      <td>0</td>\n",
       "      <td>1</td>\n",
       "      <td>0</td>\n",
       "      <td>0</td>\n",
       "      <td>0</td>\n",
       "      <td>0</td>\n",
       "      <td>1</td>\n",
       "      <td>0</td>\n",
       "      <td>0</td>\n",
       "    </tr>\n",
       "    <tr>\n",
       "      <th>880</th>\n",
       "      <td>34</td>\n",
       "      <td>1</td>\n",
       "      <td>0</td>\n",
       "      <td>0</td>\n",
       "      <td>0</td>\n",
       "      <td>1</td>\n",
       "      <td>0</td>\n",
       "      <td>0</td>\n",
       "      <td>0</td>\n",
       "      <td>0</td>\n",
       "      <td>0</td>\n",
       "      <td>1</td>\n",
       "      <td>0</td>\n",
       "      <td>0</td>\n",
       "    </tr>\n",
       "  </tbody>\n",
       "</table>\n",
       "</div>"
      ],
      "text/plain": [
       "     Vehicular speed, (km/h)  Forenoon/ Afternoon_Afternoon  \\\n",
       "876                       41                              1   \n",
       "877                       71                              1   \n",
       "878                       78                              1   \n",
       "879                       63                              1   \n",
       "880                       34                              1   \n",
       "\n",
       "     Forenoon/ Afternoon_Forenoon  Sub category_Auto  Sub category_Bike  \\\n",
       "876                             0                  1                  0   \n",
       "877                             0                  0                  0   \n",
       "878                             0                  0                  0   \n",
       "879                             0                  0                  0   \n",
       "880                             0                  0                  0   \n",
       "\n",
       "     Sub category_Bus  Sub category_Car  Sub category_Jeep  \\\n",
       "876                 0                 0                  0   \n",
       "877                 0                 1                  0   \n",
       "878                 0                 1                  0   \n",
       "879                 0                 1                  0   \n",
       "880                 1                 0                  0   \n",
       "\n",
       "     Sub category_Scooty  Sub category_Truck(s)  Sub category_With trailer  \\\n",
       "876                    0                      0                          0   \n",
       "877                    0                      0                          0   \n",
       "878                    0                      0                          0   \n",
       "879                    0                      0                          0   \n",
       "880                    0                      0                          0   \n",
       "\n",
       "     Laden / Unladen_Laden  Laden / Unladen_Pillion  Laden / Unladen_Single  \n",
       "876                      1                        0                       0  \n",
       "877                      1                        0                       0  \n",
       "878                      1                        0                       0  \n",
       "879                      1                        0                       0  \n",
       "880                      1                        0                       0  "
      ]
     },
     "execution_count": 27,
     "metadata": {},
     "output_type": "execute_result"
    }
   ],
   "source": [
    "x_test.head()"
   ]
  },
  {
   "cell_type": "code",
   "execution_count": 28,
   "id": "7d09e34b",
   "metadata": {
    "scrolled": false
   },
   "outputs": [
    {
     "data": {
      "text/plain": [
       "0    76.9\n",
       "1    80.7\n",
       "2    69.4\n",
       "3    72.9\n",
       "4    66.9\n",
       "Name: Observed noise during vehicular passby, dB(A), dtype: float64"
      ]
     },
     "execution_count": 28,
     "metadata": {},
     "output_type": "execute_result"
    }
   ],
   "source": [
    "y_train.head()"
   ]
  },
  {
   "cell_type": "code",
   "execution_count": 29,
   "id": "6e0cad2e",
   "metadata": {},
   "outputs": [
    {
     "data": {
      "text/plain": [
       "876    78.6\n",
       "877    75.5\n",
       "878    77.1\n",
       "879    74.8\n",
       "880    62.3\n",
       "Name: Observed noise during vehicular passby, dB(A), dtype: float64"
      ]
     },
     "execution_count": 29,
     "metadata": {},
     "output_type": "execute_result"
    }
   ],
   "source": [
    "y_test.head()"
   ]
  },
  {
   "cell_type": "code",
   "execution_count": 30,
   "id": "ced40718",
   "metadata": {},
   "outputs": [],
   "source": [
    "#x_train=scaler.fit_transform(x_train)\n",
    "#x_test=scaler.transform(x_test)"
   ]
  },
  {
   "cell_type": "code",
   "execution_count": 31,
   "id": "243fc85c",
   "metadata": {
    "scrolled": true
   },
   "outputs": [],
   "source": [
    "#x_train"
   ]
  },
  {
   "cell_type": "code",
   "execution_count": 32,
   "id": "664e489f",
   "metadata": {},
   "outputs": [],
   "source": [
    "#x_test"
   ]
  },
  {
   "cell_type": "code",
   "execution_count": 33,
   "id": "1f08db06",
   "metadata": {},
   "outputs": [],
   "source": [
    "from sklearn.linear_model import LinearRegression"
   ]
  },
  {
   "cell_type": "code",
   "execution_count": 34,
   "id": "46248a80",
   "metadata": {},
   "outputs": [],
   "source": [
    "model1=LinearRegression()"
   ]
  },
  {
   "cell_type": "code",
   "execution_count": 35,
   "id": "bc28a327",
   "metadata": {},
   "outputs": [
    {
     "data": {
      "text/plain": [
       "LinearRegression()"
      ]
     },
     "execution_count": 35,
     "metadata": {},
     "output_type": "execute_result"
    }
   ],
   "source": [
    "model1.fit(x_train,y_train)"
   ]
  },
  {
   "cell_type": "code",
   "execution_count": 36,
   "id": "db62f705",
   "metadata": {},
   "outputs": [
    {
     "data": {
      "text/plain": [
       "0.4544884209735619"
      ]
     },
     "execution_count": 36,
     "metadata": {},
     "output_type": "execute_result"
    }
   ],
   "source": [
    "model1.score(x_test,y_test)"
   ]
  },
  {
   "cell_type": "code",
   "execution_count": 37,
   "id": "71af1c1f",
   "metadata": {},
   "outputs": [],
   "source": [
    "y_pred=model1.predict(x_test)"
   ]
  },
  {
   "cell_type": "code",
   "execution_count": 38,
   "id": "f3b9f000",
   "metadata": {},
   "outputs": [],
   "source": [
    "from sklearn.metrics import r2_score"
   ]
  },
  {
   "cell_type": "code",
   "execution_count": 39,
   "id": "3738f4e3",
   "metadata": {
    "scrolled": true
   },
   "outputs": [
    {
     "data": {
      "text/plain": [
       "0.4544884209735619"
      ]
     },
     "execution_count": 39,
     "metadata": {},
     "output_type": "execute_result"
    }
   ],
   "source": [
    "r2_score(y_test,y_pred)"
   ]
  },
  {
   "cell_type": "code",
   "execution_count": 40,
   "id": "81121f86",
   "metadata": {},
   "outputs": [],
   "source": [
    "from sklearn.linear_model import Lasso"
   ]
  },
  {
   "cell_type": "code",
   "execution_count": 41,
   "id": "eeb410cc",
   "metadata": {},
   "outputs": [],
   "source": [
    "model2=Lasso()"
   ]
  },
  {
   "cell_type": "code",
   "execution_count": 42,
   "id": "3467ad99",
   "metadata": {},
   "outputs": [
    {
     "data": {
      "text/plain": [
       "Lasso()"
      ]
     },
     "execution_count": 42,
     "metadata": {},
     "output_type": "execute_result"
    }
   ],
   "source": [
    "model2.fit(x_train,y_train)"
   ]
  },
  {
   "cell_type": "code",
   "execution_count": 43,
   "id": "e9841142",
   "metadata": {},
   "outputs": [
    {
     "data": {
      "text/plain": [
       "0.08838085020184294"
      ]
     },
     "execution_count": 43,
     "metadata": {},
     "output_type": "execute_result"
    }
   ],
   "source": [
    "model2.score(x_test,y_test)"
   ]
  },
  {
   "cell_type": "code",
   "execution_count": 44,
   "id": "da04317b",
   "metadata": {},
   "outputs": [],
   "source": [
    "from sklearn.linear_model import Ridge"
   ]
  },
  {
   "cell_type": "code",
   "execution_count": 45,
   "id": "070e8d1f",
   "metadata": {},
   "outputs": [],
   "source": [
    "model3=Ridge()"
   ]
  },
  {
   "cell_type": "code",
   "execution_count": 46,
   "id": "1bf59518",
   "metadata": {},
   "outputs": [
    {
     "data": {
      "text/plain": [
       "Ridge()"
      ]
     },
     "execution_count": 46,
     "metadata": {},
     "output_type": "execute_result"
    }
   ],
   "source": [
    "model3.fit(x_train,y_train)"
   ]
  },
  {
   "cell_type": "code",
   "execution_count": 47,
   "id": "78bb688d",
   "metadata": {},
   "outputs": [
    {
     "data": {
      "text/plain": [
       "0.45921856446719356"
      ]
     },
     "execution_count": 47,
     "metadata": {},
     "output_type": "execute_result"
    }
   ],
   "source": [
    "model3.score(x_test,y_test)"
   ]
  },
  {
   "cell_type": "code",
   "execution_count": 48,
   "id": "25537fc2",
   "metadata": {},
   "outputs": [],
   "source": [
    "from sklearn.svm import SVR"
   ]
  },
  {
   "cell_type": "code",
   "execution_count": 49,
   "id": "fb86eecc",
   "metadata": {},
   "outputs": [],
   "source": [
    "model4=SVR(kernel='linear')"
   ]
  },
  {
   "cell_type": "code",
   "execution_count": 50,
   "id": "460c3a4e",
   "metadata": {},
   "outputs": [
    {
     "data": {
      "text/plain": [
       "SVR(kernel='linear')"
      ]
     },
     "execution_count": 50,
     "metadata": {},
     "output_type": "execute_result"
    }
   ],
   "source": [
    "model4.fit(x_train,y_train)"
   ]
  },
  {
   "cell_type": "code",
   "execution_count": 51,
   "id": "196ada44",
   "metadata": {},
   "outputs": [
    {
     "data": {
      "text/plain": [
       "0.387096289298566"
      ]
     },
     "execution_count": 51,
     "metadata": {},
     "output_type": "execute_result"
    }
   ],
   "source": [
    "model4.score(x_test,y_test)"
   ]
  },
  {
   "cell_type": "code",
   "execution_count": 52,
   "id": "4c231cf4",
   "metadata": {},
   "outputs": [],
   "source": [
    "from sklearn.tree import DecisionTreeRegressor"
   ]
  },
  {
   "cell_type": "code",
   "execution_count": 53,
   "id": "5d066a53",
   "metadata": {},
   "outputs": [],
   "source": [
    "model4=DecisionTreeRegressor()"
   ]
  },
  {
   "cell_type": "code",
   "execution_count": 54,
   "id": "9f01e691",
   "metadata": {},
   "outputs": [
    {
     "data": {
      "text/plain": [
       "DecisionTreeRegressor()"
      ]
     },
     "execution_count": 54,
     "metadata": {},
     "output_type": "execute_result"
    }
   ],
   "source": [
    "model4.fit(x_train,y_train)"
   ]
  },
  {
   "cell_type": "code",
   "execution_count": 55,
   "id": "bcf707e8",
   "metadata": {},
   "outputs": [
    {
     "data": {
      "text/plain": [
       "0.3766169468381284"
      ]
     },
     "execution_count": 55,
     "metadata": {},
     "output_type": "execute_result"
    }
   ],
   "source": [
    "model4.score(x_test,y_test)"
   ]
  },
  {
   "cell_type": "code",
   "execution_count": 56,
   "id": "be9dadc1",
   "metadata": {},
   "outputs": [],
   "source": [
    "from sklearn.ensemble import RandomForestRegressor"
   ]
  },
  {
   "cell_type": "code",
   "execution_count": 57,
   "id": "5ff84600",
   "metadata": {},
   "outputs": [],
   "source": [
    "model5=RandomForestRegressor(n_estimators=500,bootstrap=True,criterion='mse',max_features='auto',max_depth=10,min_samples_split=50,min_samples_leaf=10)"
   ]
  },
  {
   "cell_type": "code",
   "execution_count": 58,
   "id": "fa38a222",
   "metadata": {
    "scrolled": false
   },
   "outputs": [
    {
     "name": "stderr",
     "output_type": "stream",
     "text": [
      "C:\\Users\\Dhanush Thokala\\AppData\\Roaming\\Python\\Python39\\site-packages\\sklearn\\ensemble\\_forest.py:396: FutureWarning: Criterion 'mse' was deprecated in v1.0 and will be removed in version 1.2. Use `criterion='squared_error'` which is equivalent.\n",
      "  warn(\n"
     ]
    },
    {
     "data": {
      "text/plain": [
       "RandomForestRegressor(criterion='mse', max_depth=10, min_samples_leaf=10,\n",
       "                      min_samples_split=50, n_estimators=500)"
      ]
     },
     "execution_count": 58,
     "metadata": {},
     "output_type": "execute_result"
    }
   ],
   "source": [
    "model5.fit(x_train,y_train)"
   ]
  },
  {
   "cell_type": "code",
   "execution_count": 59,
   "id": "2ea5bb61",
   "metadata": {},
   "outputs": [
    {
     "data": {
      "text/plain": [
       "0.5757009192946412"
      ]
     },
     "execution_count": 59,
     "metadata": {},
     "output_type": "execute_result"
    }
   ],
   "source": [
    "model5.score(x_test,y_test)"
   ]
  },
  {
   "cell_type": "code",
   "execution_count": 60,
   "id": "1b64241d",
   "metadata": {},
   "outputs": [
    {
     "data": {
      "text/html": [
       "<div>\n",
       "<style scoped>\n",
       "    .dataframe tbody tr th:only-of-type {\n",
       "        vertical-align: middle;\n",
       "    }\n",
       "\n",
       "    .dataframe tbody tr th {\n",
       "        vertical-align: top;\n",
       "    }\n",
       "\n",
       "    .dataframe thead th {\n",
       "        text-align: right;\n",
       "    }\n",
       "</style>\n",
       "<table border=\"1\" class=\"dataframe\">\n",
       "  <thead>\n",
       "    <tr style=\"text-align: right;\">\n",
       "      <th></th>\n",
       "      <th>Date</th>\n",
       "      <th>Forenoon/ Afternoon</th>\n",
       "      <th>Vehicle Registration Number</th>\n",
       "      <th>Vehicle category</th>\n",
       "      <th>Sub category</th>\n",
       "      <th>Laden / UnLaden</th>\n",
       "      <th>Observed noise during vehicular passby, dB(A)</th>\n",
       "      <th>Background noise after passby, dB(A)</th>\n",
       "      <th>Vehicular speed, (km/h)</th>\n",
       "    </tr>\n",
       "  </thead>\n",
       "  <tbody>\n",
       "    <tr>\n",
       "      <th>0</th>\n",
       "      <td>19.12.2018</td>\n",
       "      <td>Forenoon</td>\n",
       "      <td>UP53CT8371</td>\n",
       "      <td>LMV</td>\n",
       "      <td>Jeep</td>\n",
       "      <td>Laden</td>\n",
       "      <td>76.9</td>\n",
       "      <td>63.8</td>\n",
       "      <td>50</td>\n",
       "    </tr>\n",
       "    <tr>\n",
       "      <th>1</th>\n",
       "      <td>19.12.2018</td>\n",
       "      <td>Forenoon</td>\n",
       "      <td>UP53CT0702</td>\n",
       "      <td>HCV</td>\n",
       "      <td>Bus</td>\n",
       "      <td>Laden</td>\n",
       "      <td>80.7</td>\n",
       "      <td>63.8</td>\n",
       "      <td>46</td>\n",
       "    </tr>\n",
       "    <tr>\n",
       "      <th>2</th>\n",
       "      <td>19.12.2018</td>\n",
       "      <td>Forenoon</td>\n",
       "      <td>UP57L2220</td>\n",
       "      <td>LMV</td>\n",
       "      <td>Car</td>\n",
       "      <td>Laden</td>\n",
       "      <td>69.4</td>\n",
       "      <td>63.8</td>\n",
       "      <td>56</td>\n",
       "    </tr>\n",
       "    <tr>\n",
       "      <th>3</th>\n",
       "      <td>19.12.2018</td>\n",
       "      <td>Forenoon</td>\n",
       "      <td>UP53BT3555</td>\n",
       "      <td>LMV</td>\n",
       "      <td>Jeep</td>\n",
       "      <td>Laden</td>\n",
       "      <td>72.9</td>\n",
       "      <td>63.8</td>\n",
       "      <td>42</td>\n",
       "    </tr>\n",
       "    <tr>\n",
       "      <th>4</th>\n",
       "      <td>19.12.2018</td>\n",
       "      <td>Forenoon</td>\n",
       "      <td>UP53AR6689</td>\n",
       "      <td>2- Wheeler</td>\n",
       "      <td>Scooty</td>\n",
       "      <td>Pillion</td>\n",
       "      <td>66.9</td>\n",
       "      <td>63.8</td>\n",
       "      <td>40</td>\n",
       "    </tr>\n",
       "  </tbody>\n",
       "</table>\n",
       "</div>"
      ],
      "text/plain": [
       "         Date Forenoon/ Afternoon Vehicle Registration Number  \\\n",
       "0  19.12.2018            Forenoon                  UP53CT8371   \n",
       "1  19.12.2018            Forenoon                  UP53CT0702   \n",
       "2  19.12.2018            Forenoon                   UP57L2220   \n",
       "3  19.12.2018            Forenoon                  UP53BT3555   \n",
       "4  19.12.2018            Forenoon                  UP53AR6689   \n",
       "\n",
       "  Vehicle category Sub category Laden / UnLaden  \\\n",
       "0              LMV         Jeep           Laden   \n",
       "1              HCV          Bus           Laden   \n",
       "2              LMV          Car           Laden   \n",
       "3              LMV         Jeep           Laden   \n",
       "4       2- Wheeler       Scooty         Pillion   \n",
       "\n",
       "   Observed noise during vehicular passby, dB(A)  \\\n",
       "0                                           76.9   \n",
       "1                                           80.7   \n",
       "2                                           69.4   \n",
       "3                                           72.9   \n",
       "4                                           66.9   \n",
       "\n",
       "   Background noise after passby, dB(A)  Vehicular speed, (km/h)  \n",
       "0                                  63.8                       50  \n",
       "1                                  63.8                       46  \n",
       "2                                  63.8                       56  \n",
       "3                                  63.8                       42  \n",
       "4                                  63.8                       40  "
      ]
     },
     "execution_count": 60,
     "metadata": {},
     "output_type": "execute_result"
    }
   ],
   "source": [
    "df1=pd.read_excel('Final Data.xlsx')\n",
    "df1.head()"
   ]
  },
  {
   "cell_type": "code",
   "execution_count": 61,
   "id": "93750384",
   "metadata": {},
   "outputs": [
    {
     "name": "stdout",
     "output_type": "stream",
     "text": [
      "<class 'pandas.core.frame.DataFrame'>\n",
      "RangeIndex: 2239 entries, 0 to 2238\n",
      "Data columns (total 9 columns):\n",
      " #   Column                                         Non-Null Count  Dtype  \n",
      "---  ------                                         --------------  -----  \n",
      " 0   Date                                           2239 non-null   object \n",
      " 1   Forenoon/ Afternoon                            2239 non-null   object \n",
      " 2   Vehicle Registration Number                    2228 non-null   object \n",
      " 3   Vehicle category                               2195 non-null   object \n",
      " 4   Sub category                                   2239 non-null   object \n",
      " 5   Laden / UnLaden                                2239 non-null   object \n",
      " 6   Observed noise during vehicular passby, dB(A)  2239 non-null   float64\n",
      " 7   Background noise after passby, dB(A)           2239 non-null   float64\n",
      " 8   Vehicular speed, (km/h)                        2239 non-null   int64  \n",
      "dtypes: float64(2), int64(1), object(6)\n",
      "memory usage: 157.6+ KB\n"
     ]
    }
   ],
   "source": [
    "df1.info()"
   ]
  },
  {
   "cell_type": "code",
   "execution_count": 62,
   "id": "2d549561",
   "metadata": {},
   "outputs": [],
   "source": [
    "df1.drop(['Date','Vehicle Registration Number','Vehicle category'],axis=1,inplace=True)"
   ]
  },
  {
   "cell_type": "code",
   "execution_count": 63,
   "id": "cac5d40d",
   "metadata": {},
   "outputs": [
    {
     "data": {
      "text/html": [
       "<div>\n",
       "<style scoped>\n",
       "    .dataframe tbody tr th:only-of-type {\n",
       "        vertical-align: middle;\n",
       "    }\n",
       "\n",
       "    .dataframe tbody tr th {\n",
       "        vertical-align: top;\n",
       "    }\n",
       "\n",
       "    .dataframe thead th {\n",
       "        text-align: right;\n",
       "    }\n",
       "</style>\n",
       "<table border=\"1\" class=\"dataframe\">\n",
       "  <thead>\n",
       "    <tr style=\"text-align: right;\">\n",
       "      <th></th>\n",
       "      <th>Forenoon/ Afternoon</th>\n",
       "      <th>Sub category</th>\n",
       "      <th>Laden / UnLaden</th>\n",
       "      <th>Observed noise during vehicular passby, dB(A)</th>\n",
       "      <th>Background noise after passby, dB(A)</th>\n",
       "      <th>Vehicular speed, (km/h)</th>\n",
       "    </tr>\n",
       "  </thead>\n",
       "  <tbody>\n",
       "    <tr>\n",
       "      <th>0</th>\n",
       "      <td>Forenoon</td>\n",
       "      <td>Jeep</td>\n",
       "      <td>Laden</td>\n",
       "      <td>76.9</td>\n",
       "      <td>63.8</td>\n",
       "      <td>50</td>\n",
       "    </tr>\n",
       "    <tr>\n",
       "      <th>1</th>\n",
       "      <td>Forenoon</td>\n",
       "      <td>Bus</td>\n",
       "      <td>Laden</td>\n",
       "      <td>80.7</td>\n",
       "      <td>63.8</td>\n",
       "      <td>46</td>\n",
       "    </tr>\n",
       "    <tr>\n",
       "      <th>2</th>\n",
       "      <td>Forenoon</td>\n",
       "      <td>Car</td>\n",
       "      <td>Laden</td>\n",
       "      <td>69.4</td>\n",
       "      <td>63.8</td>\n",
       "      <td>56</td>\n",
       "    </tr>\n",
       "    <tr>\n",
       "      <th>3</th>\n",
       "      <td>Forenoon</td>\n",
       "      <td>Jeep</td>\n",
       "      <td>Laden</td>\n",
       "      <td>72.9</td>\n",
       "      <td>63.8</td>\n",
       "      <td>42</td>\n",
       "    </tr>\n",
       "    <tr>\n",
       "      <th>4</th>\n",
       "      <td>Forenoon</td>\n",
       "      <td>Scooty</td>\n",
       "      <td>Pillion</td>\n",
       "      <td>66.9</td>\n",
       "      <td>63.8</td>\n",
       "      <td>40</td>\n",
       "    </tr>\n",
       "  </tbody>\n",
       "</table>\n",
       "</div>"
      ],
      "text/plain": [
       "  Forenoon/ Afternoon Sub category Laden / UnLaden  \\\n",
       "0            Forenoon         Jeep           Laden   \n",
       "1            Forenoon          Bus           Laden   \n",
       "2            Forenoon          Car           Laden   \n",
       "3            Forenoon         Jeep           Laden   \n",
       "4            Forenoon       Scooty         Pillion   \n",
       "\n",
       "   Observed noise during vehicular passby, dB(A)  \\\n",
       "0                                           76.9   \n",
       "1                                           80.7   \n",
       "2                                           69.4   \n",
       "3                                           72.9   \n",
       "4                                           66.9   \n",
       "\n",
       "   Background noise after passby, dB(A)  Vehicular speed, (km/h)  \n",
       "0                                  63.8                       50  \n",
       "1                                  63.8                       46  \n",
       "2                                  63.8                       56  \n",
       "3                                  63.8                       42  \n",
       "4                                  63.8                       40  "
      ]
     },
     "execution_count": 63,
     "metadata": {},
     "output_type": "execute_result"
    }
   ],
   "source": [
    "df1.head()"
   ]
  },
  {
   "cell_type": "code",
   "execution_count": 64,
   "id": "4141ca47",
   "metadata": {},
   "outputs": [
    {
     "data": {
      "text/plain": [
       "Forenoon/ Afternoon                              0\n",
       "Sub category                                     0\n",
       "Laden / UnLaden                                  0\n",
       "Observed noise during vehicular passby, dB(A)    0\n",
       "Background noise after passby, dB(A)             0\n",
       "Vehicular speed, (km/h)                          0\n",
       "dtype: int64"
      ]
     },
     "execution_count": 64,
     "metadata": {},
     "output_type": "execute_result"
    }
   ],
   "source": [
    "df1.isnull().sum()"
   ]
  },
  {
   "cell_type": "code",
   "execution_count": 65,
   "id": "1119b30a",
   "metadata": {},
   "outputs": [
    {
     "name": "stdout",
     "output_type": "stream",
     "text": [
      "<class 'pandas.core.frame.DataFrame'>\n",
      "RangeIndex: 2239 entries, 0 to 2238\n",
      "Data columns (total 6 columns):\n",
      " #   Column                                         Non-Null Count  Dtype  \n",
      "---  ------                                         --------------  -----  \n",
      " 0   Forenoon/ Afternoon                            2239 non-null   object \n",
      " 1   Sub category                                   2239 non-null   object \n",
      " 2   Laden / UnLaden                                2239 non-null   object \n",
      " 3   Observed noise during vehicular passby, dB(A)  2239 non-null   float64\n",
      " 4   Background noise after passby, dB(A)           2239 non-null   float64\n",
      " 5   Vehicular speed, (km/h)                        2239 non-null   int64  \n",
      "dtypes: float64(2), int64(1), object(3)\n",
      "memory usage: 105.1+ KB\n"
     ]
    }
   ],
   "source": [
    "df1.info()"
   ]
  },
  {
   "cell_type": "code",
   "execution_count": 66,
   "id": "46ca7eae",
   "metadata": {},
   "outputs": [
    {
     "data": {
      "text/plain": [
       "Forenoon     1350\n",
       "Afternoon     889\n",
       "Name: Forenoon/ Afternoon, dtype: int64"
      ]
     },
     "execution_count": 66,
     "metadata": {},
     "output_type": "execute_result"
    }
   ],
   "source": [
    "df1['Forenoon/ Afternoon'].value_counts()"
   ]
  },
  {
   "cell_type": "code",
   "execution_count": 67,
   "id": "6b6e2b3d",
   "metadata": {},
   "outputs": [
    {
     "data": {
      "text/plain": [
       "Car             737\n",
       "Auto            408\n",
       "Bike            379\n",
       "Bus             335\n",
       "Jeep            193\n",
       "Scooty           61\n",
       "Tractor          44\n",
       "With trailer     29\n",
       "Truck(s)         21\n",
       "Truck            19\n",
       "Mini Bus          7\n",
       "JCB               5\n",
       "Mini Truck        1\n",
       "Name: Sub category, dtype: int64"
      ]
     },
     "execution_count": 67,
     "metadata": {},
     "output_type": "execute_result"
    }
   ],
   "source": [
    "df1['Sub category'].value_counts()"
   ]
  },
  {
   "cell_type": "code",
   "execution_count": 68,
   "id": "9cdc5b17",
   "metadata": {},
   "outputs": [],
   "source": [
    "df1=df1[df1['Sub category']!='Truck']\n",
    "df1=df1[df1['Sub category']!='Mini Bus']\n",
    "df1=df1[df1['Sub category']!='JCB']\n",
    "df1=df1[df1['Sub category']!='Mini Truck']\n",
    "df1=df1[df1['Sub category']!='With trailer']\n",
    "df1=df1[df1['Sub category']!='Truck(s)']"
   ]
  },
  {
   "cell_type": "code",
   "execution_count": 69,
   "id": "a656398c",
   "metadata": {},
   "outputs": [
    {
     "data": {
      "text/plain": [
       "Car        737\n",
       "Auto       408\n",
       "Bike       379\n",
       "Bus        335\n",
       "Jeep       193\n",
       "Scooty      61\n",
       "Tractor     44\n",
       "Name: Sub category, dtype: int64"
      ]
     },
     "execution_count": 69,
     "metadata": {},
     "output_type": "execute_result"
    }
   ],
   "source": [
    "df1['Sub category'].value_counts()"
   ]
  },
  {
   "cell_type": "code",
   "execution_count": 70,
   "id": "9a7d636e",
   "metadata": {},
   "outputs": [
    {
     "data": {
      "text/plain": [
       "Laden      1559\n",
       "Pillion     218\n",
       "Single      218\n",
       "UnLaden     162\n",
       "Name: Laden / UnLaden, dtype: int64"
      ]
     },
     "execution_count": 70,
     "metadata": {},
     "output_type": "execute_result"
    }
   ],
   "source": [
    "df1['Laden / UnLaden'].value_counts()"
   ]
  },
  {
   "cell_type": "code",
   "execution_count": 71,
   "id": "68b1e749",
   "metadata": {},
   "outputs": [
    {
     "data": {
      "text/html": [
       "<div>\n",
       "<style scoped>\n",
       "    .dataframe tbody tr th:only-of-type {\n",
       "        vertical-align: middle;\n",
       "    }\n",
       "\n",
       "    .dataframe tbody tr th {\n",
       "        vertical-align: top;\n",
       "    }\n",
       "\n",
       "    .dataframe thead th {\n",
       "        text-align: right;\n",
       "    }\n",
       "</style>\n",
       "<table border=\"1\" class=\"dataframe\">\n",
       "  <thead>\n",
       "    <tr style=\"text-align: right;\">\n",
       "      <th></th>\n",
       "      <th>Observed noise during vehicular passby, dB(A)</th>\n",
       "      <th>Background noise after passby, dB(A)</th>\n",
       "      <th>Vehicular speed, (km/h)</th>\n",
       "      <th>Forenoon/ Afternoon_Afternoon</th>\n",
       "      <th>Forenoon/ Afternoon_Forenoon</th>\n",
       "      <th>Sub category_Auto</th>\n",
       "      <th>Sub category_Bike</th>\n",
       "      <th>Sub category_Bus</th>\n",
       "      <th>Sub category_Car</th>\n",
       "      <th>Sub category_Jeep</th>\n",
       "      <th>Sub category_Scooty</th>\n",
       "      <th>Sub category_Tractor</th>\n",
       "      <th>Laden / UnLaden_Laden</th>\n",
       "      <th>Laden / UnLaden_Pillion</th>\n",
       "      <th>Laden / UnLaden_Single</th>\n",
       "      <th>Laden / UnLaden_UnLaden</th>\n",
       "    </tr>\n",
       "  </thead>\n",
       "  <tbody>\n",
       "    <tr>\n",
       "      <th>0</th>\n",
       "      <td>76.9</td>\n",
       "      <td>63.8</td>\n",
       "      <td>50</td>\n",
       "      <td>0</td>\n",
       "      <td>1</td>\n",
       "      <td>0</td>\n",
       "      <td>0</td>\n",
       "      <td>0</td>\n",
       "      <td>0</td>\n",
       "      <td>1</td>\n",
       "      <td>0</td>\n",
       "      <td>0</td>\n",
       "      <td>1</td>\n",
       "      <td>0</td>\n",
       "      <td>0</td>\n",
       "      <td>0</td>\n",
       "    </tr>\n",
       "    <tr>\n",
       "      <th>1</th>\n",
       "      <td>80.7</td>\n",
       "      <td>63.8</td>\n",
       "      <td>46</td>\n",
       "      <td>0</td>\n",
       "      <td>1</td>\n",
       "      <td>0</td>\n",
       "      <td>0</td>\n",
       "      <td>1</td>\n",
       "      <td>0</td>\n",
       "      <td>0</td>\n",
       "      <td>0</td>\n",
       "      <td>0</td>\n",
       "      <td>1</td>\n",
       "      <td>0</td>\n",
       "      <td>0</td>\n",
       "      <td>0</td>\n",
       "    </tr>\n",
       "    <tr>\n",
       "      <th>2</th>\n",
       "      <td>69.4</td>\n",
       "      <td>63.8</td>\n",
       "      <td>56</td>\n",
       "      <td>0</td>\n",
       "      <td>1</td>\n",
       "      <td>0</td>\n",
       "      <td>0</td>\n",
       "      <td>0</td>\n",
       "      <td>1</td>\n",
       "      <td>0</td>\n",
       "      <td>0</td>\n",
       "      <td>0</td>\n",
       "      <td>1</td>\n",
       "      <td>0</td>\n",
       "      <td>0</td>\n",
       "      <td>0</td>\n",
       "    </tr>\n",
       "    <tr>\n",
       "      <th>3</th>\n",
       "      <td>72.9</td>\n",
       "      <td>63.8</td>\n",
       "      <td>42</td>\n",
       "      <td>0</td>\n",
       "      <td>1</td>\n",
       "      <td>0</td>\n",
       "      <td>0</td>\n",
       "      <td>0</td>\n",
       "      <td>0</td>\n",
       "      <td>1</td>\n",
       "      <td>0</td>\n",
       "      <td>0</td>\n",
       "      <td>1</td>\n",
       "      <td>0</td>\n",
       "      <td>0</td>\n",
       "      <td>0</td>\n",
       "    </tr>\n",
       "    <tr>\n",
       "      <th>4</th>\n",
       "      <td>66.9</td>\n",
       "      <td>63.8</td>\n",
       "      <td>40</td>\n",
       "      <td>0</td>\n",
       "      <td>1</td>\n",
       "      <td>0</td>\n",
       "      <td>0</td>\n",
       "      <td>0</td>\n",
       "      <td>0</td>\n",
       "      <td>0</td>\n",
       "      <td>1</td>\n",
       "      <td>0</td>\n",
       "      <td>0</td>\n",
       "      <td>1</td>\n",
       "      <td>0</td>\n",
       "      <td>0</td>\n",
       "    </tr>\n",
       "  </tbody>\n",
       "</table>\n",
       "</div>"
      ],
      "text/plain": [
       "   Observed noise during vehicular passby, dB(A)  \\\n",
       "0                                           76.9   \n",
       "1                                           80.7   \n",
       "2                                           69.4   \n",
       "3                                           72.9   \n",
       "4                                           66.9   \n",
       "\n",
       "   Background noise after passby, dB(A)  Vehicular speed, (km/h)  \\\n",
       "0                                  63.8                       50   \n",
       "1                                  63.8                       46   \n",
       "2                                  63.8                       56   \n",
       "3                                  63.8                       42   \n",
       "4                                  63.8                       40   \n",
       "\n",
       "   Forenoon/ Afternoon_Afternoon  Forenoon/ Afternoon_Forenoon  \\\n",
       "0                              0                             1   \n",
       "1                              0                             1   \n",
       "2                              0                             1   \n",
       "3                              0                             1   \n",
       "4                              0                             1   \n",
       "\n",
       "   Sub category_Auto  Sub category_Bike  Sub category_Bus  Sub category_Car  \\\n",
       "0                  0                  0                 0                 0   \n",
       "1                  0                  0                 1                 0   \n",
       "2                  0                  0                 0                 1   \n",
       "3                  0                  0                 0                 0   \n",
       "4                  0                  0                 0                 0   \n",
       "\n",
       "   Sub category_Jeep  Sub category_Scooty  Sub category_Tractor  \\\n",
       "0                  1                    0                     0   \n",
       "1                  0                    0                     0   \n",
       "2                  0                    0                     0   \n",
       "3                  1                    0                     0   \n",
       "4                  0                    1                     0   \n",
       "\n",
       "   Laden / UnLaden_Laden  Laden / UnLaden_Pillion  Laden / UnLaden_Single  \\\n",
       "0                      1                        0                       0   \n",
       "1                      1                        0                       0   \n",
       "2                      1                        0                       0   \n",
       "3                      1                        0                       0   \n",
       "4                      0                        1                       0   \n",
       "\n",
       "   Laden / UnLaden_UnLaden  \n",
       "0                        0  \n",
       "1                        0  \n",
       "2                        0  \n",
       "3                        0  \n",
       "4                        0  "
      ]
     },
     "execution_count": 71,
     "metadata": {},
     "output_type": "execute_result"
    }
   ],
   "source": [
    "dummies1=pd.get_dummies(df1)\n",
    "dummies1.head()"
   ]
  },
  {
   "cell_type": "code",
   "execution_count": 72,
   "id": "f4917453",
   "metadata": {},
   "outputs": [],
   "source": [
    "inputs1=dummies1.drop(['Observed noise during vehicular passby, dB(A)','Background noise after passby, dB(A)'],axis=1)\n",
    "target1=dummies1['Observed noise during vehicular passby, dB(A)']"
   ]
  },
  {
   "cell_type": "code",
   "execution_count": 73,
   "id": "3129fc86",
   "metadata": {},
   "outputs": [],
   "source": [
    "x_train1,x_test1,y_train1,y_test1=train_test_split(inputs1,target1,test_size=0.2)"
   ]
  },
  {
   "cell_type": "code",
   "execution_count": 74,
   "id": "6d5e06c0",
   "metadata": {},
   "outputs": [
    {
     "data": {
      "text/html": [
       "<div>\n",
       "<style scoped>\n",
       "    .dataframe tbody tr th:only-of-type {\n",
       "        vertical-align: middle;\n",
       "    }\n",
       "\n",
       "    .dataframe tbody tr th {\n",
       "        vertical-align: top;\n",
       "    }\n",
       "\n",
       "    .dataframe thead th {\n",
       "        text-align: right;\n",
       "    }\n",
       "</style>\n",
       "<table border=\"1\" class=\"dataframe\">\n",
       "  <thead>\n",
       "    <tr style=\"text-align: right;\">\n",
       "      <th></th>\n",
       "      <th>Vehicular speed, (km/h)</th>\n",
       "      <th>Forenoon/ Afternoon_Afternoon</th>\n",
       "      <th>Forenoon/ Afternoon_Forenoon</th>\n",
       "      <th>Sub category_Auto</th>\n",
       "      <th>Sub category_Bike</th>\n",
       "      <th>Sub category_Bus</th>\n",
       "      <th>Sub category_Car</th>\n",
       "      <th>Sub category_Jeep</th>\n",
       "      <th>Sub category_Scooty</th>\n",
       "      <th>Sub category_Tractor</th>\n",
       "      <th>Laden / UnLaden_Laden</th>\n",
       "      <th>Laden / UnLaden_Pillion</th>\n",
       "      <th>Laden / UnLaden_Single</th>\n",
       "      <th>Laden / UnLaden_UnLaden</th>\n",
       "    </tr>\n",
       "  </thead>\n",
       "  <tbody>\n",
       "    <tr>\n",
       "      <th>2127</th>\n",
       "      <td>37</td>\n",
       "      <td>0</td>\n",
       "      <td>1</td>\n",
       "      <td>0</td>\n",
       "      <td>0</td>\n",
       "      <td>0</td>\n",
       "      <td>1</td>\n",
       "      <td>0</td>\n",
       "      <td>0</td>\n",
       "      <td>0</td>\n",
       "      <td>1</td>\n",
       "      <td>0</td>\n",
       "      <td>0</td>\n",
       "      <td>0</td>\n",
       "    </tr>\n",
       "    <tr>\n",
       "      <th>380</th>\n",
       "      <td>34</td>\n",
       "      <td>0</td>\n",
       "      <td>1</td>\n",
       "      <td>0</td>\n",
       "      <td>1</td>\n",
       "      <td>0</td>\n",
       "      <td>0</td>\n",
       "      <td>0</td>\n",
       "      <td>0</td>\n",
       "      <td>0</td>\n",
       "      <td>1</td>\n",
       "      <td>0</td>\n",
       "      <td>0</td>\n",
       "      <td>0</td>\n",
       "    </tr>\n",
       "    <tr>\n",
       "      <th>1195</th>\n",
       "      <td>57</td>\n",
       "      <td>0</td>\n",
       "      <td>1</td>\n",
       "      <td>0</td>\n",
       "      <td>0</td>\n",
       "      <td>0</td>\n",
       "      <td>1</td>\n",
       "      <td>0</td>\n",
       "      <td>0</td>\n",
       "      <td>0</td>\n",
       "      <td>1</td>\n",
       "      <td>0</td>\n",
       "      <td>0</td>\n",
       "      <td>0</td>\n",
       "    </tr>\n",
       "    <tr>\n",
       "      <th>548</th>\n",
       "      <td>48</td>\n",
       "      <td>0</td>\n",
       "      <td>1</td>\n",
       "      <td>0</td>\n",
       "      <td>0</td>\n",
       "      <td>0</td>\n",
       "      <td>1</td>\n",
       "      <td>0</td>\n",
       "      <td>0</td>\n",
       "      <td>0</td>\n",
       "      <td>1</td>\n",
       "      <td>0</td>\n",
       "      <td>0</td>\n",
       "      <td>0</td>\n",
       "    </tr>\n",
       "    <tr>\n",
       "      <th>1310</th>\n",
       "      <td>41</td>\n",
       "      <td>1</td>\n",
       "      <td>0</td>\n",
       "      <td>0</td>\n",
       "      <td>0</td>\n",
       "      <td>1</td>\n",
       "      <td>0</td>\n",
       "      <td>0</td>\n",
       "      <td>0</td>\n",
       "      <td>0</td>\n",
       "      <td>1</td>\n",
       "      <td>0</td>\n",
       "      <td>0</td>\n",
       "      <td>0</td>\n",
       "    </tr>\n",
       "  </tbody>\n",
       "</table>\n",
       "</div>"
      ],
      "text/plain": [
       "      Vehicular speed, (km/h)  Forenoon/ Afternoon_Afternoon  \\\n",
       "2127                       37                              0   \n",
       "380                        34                              0   \n",
       "1195                       57                              0   \n",
       "548                        48                              0   \n",
       "1310                       41                              1   \n",
       "\n",
       "      Forenoon/ Afternoon_Forenoon  Sub category_Auto  Sub category_Bike  \\\n",
       "2127                             1                  0                  0   \n",
       "380                              1                  0                  1   \n",
       "1195                             1                  0                  0   \n",
       "548                              1                  0                  0   \n",
       "1310                             0                  0                  0   \n",
       "\n",
       "      Sub category_Bus  Sub category_Car  Sub category_Jeep  \\\n",
       "2127                 0                 1                  0   \n",
       "380                  0                 0                  0   \n",
       "1195                 0                 1                  0   \n",
       "548                  0                 1                  0   \n",
       "1310                 1                 0                  0   \n",
       "\n",
       "      Sub category_Scooty  Sub category_Tractor  Laden / UnLaden_Laden  \\\n",
       "2127                    0                     0                      1   \n",
       "380                     0                     0                      1   \n",
       "1195                    0                     0                      1   \n",
       "548                     0                     0                      1   \n",
       "1310                    0                     0                      1   \n",
       "\n",
       "      Laden / UnLaden_Pillion  Laden / UnLaden_Single  Laden / UnLaden_UnLaden  \n",
       "2127                        0                       0                        0  \n",
       "380                         0                       0                        0  \n",
       "1195                        0                       0                        0  \n",
       "548                         0                       0                        0  \n",
       "1310                        0                       0                        0  "
      ]
     },
     "execution_count": 74,
     "metadata": {},
     "output_type": "execute_result"
    }
   ],
   "source": [
    "x_train1.head()"
   ]
  },
  {
   "cell_type": "code",
   "execution_count": 75,
   "id": "2fc828f4",
   "metadata": {},
   "outputs": [
    {
     "data": {
      "text/plain": [
       "2127    66.3\n",
       "380     75.1\n",
       "1195    68.2\n",
       "548     69.6\n",
       "1310    82.1\n",
       "Name: Observed noise during vehicular passby, dB(A), dtype: float64"
      ]
     },
     "execution_count": 75,
     "metadata": {},
     "output_type": "execute_result"
    }
   ],
   "source": [
    "y_train1.head()"
   ]
  },
  {
   "cell_type": "code",
   "execution_count": 76,
   "id": "745f59db",
   "metadata": {},
   "outputs": [],
   "source": [
    "m1=LinearRegression()"
   ]
  },
  {
   "cell_type": "code",
   "execution_count": 77,
   "id": "4aaee350",
   "metadata": {},
   "outputs": [
    {
     "data": {
      "text/plain": [
       "LinearRegression()"
      ]
     },
     "execution_count": 77,
     "metadata": {},
     "output_type": "execute_result"
    }
   ],
   "source": [
    "m1.fit(x_train1,y_train1)"
   ]
  },
  {
   "cell_type": "code",
   "execution_count": 78,
   "id": "31167516",
   "metadata": {},
   "outputs": [
    {
     "data": {
      "text/plain": [
       "0.5659302162296476"
      ]
     },
     "execution_count": 78,
     "metadata": {},
     "output_type": "execute_result"
    }
   ],
   "source": [
    "m1.score(x_test1,y_test1)"
   ]
  },
  {
   "cell_type": "code",
   "execution_count": 79,
   "id": "e1e3c823",
   "metadata": {},
   "outputs": [],
   "source": [
    "m2=Lasso()"
   ]
  },
  {
   "cell_type": "code",
   "execution_count": 80,
   "id": "969b53e8",
   "metadata": {},
   "outputs": [
    {
     "data": {
      "text/plain": [
       "Lasso()"
      ]
     },
     "execution_count": 80,
     "metadata": {},
     "output_type": "execute_result"
    }
   ],
   "source": [
    "m2.fit(x_train1,y_train1)"
   ]
  },
  {
   "cell_type": "code",
   "execution_count": 81,
   "id": "fe0ebaa9",
   "metadata": {},
   "outputs": [
    {
     "data": {
      "text/plain": [
       "0.043291899348062324"
      ]
     },
     "execution_count": 81,
     "metadata": {},
     "output_type": "execute_result"
    }
   ],
   "source": [
    "m2.score(x_test1,y_test1)"
   ]
  },
  {
   "cell_type": "code",
   "execution_count": 82,
   "id": "426569bc",
   "metadata": {},
   "outputs": [],
   "source": [
    "m3=Ridge()"
   ]
  },
  {
   "cell_type": "code",
   "execution_count": 83,
   "id": "33d95738",
   "metadata": {},
   "outputs": [
    {
     "data": {
      "text/plain": [
       "Ridge()"
      ]
     },
     "execution_count": 83,
     "metadata": {},
     "output_type": "execute_result"
    }
   ],
   "source": [
    "m3.fit(x_train1,y_train1)"
   ]
  },
  {
   "cell_type": "code",
   "execution_count": 84,
   "id": "02717b07",
   "metadata": {},
   "outputs": [
    {
     "data": {
      "text/plain": [
       "0.564880359529994"
      ]
     },
     "execution_count": 84,
     "metadata": {},
     "output_type": "execute_result"
    }
   ],
   "source": [
    "m3.score(x_test1,y_test1)"
   ]
  },
  {
   "cell_type": "code",
   "execution_count": 85,
   "id": "ae5dbdf3",
   "metadata": {},
   "outputs": [],
   "source": [
    "m4=SVR(kernel='linear')"
   ]
  },
  {
   "cell_type": "code",
   "execution_count": 86,
   "id": "58810285",
   "metadata": {},
   "outputs": [
    {
     "data": {
      "text/plain": [
       "SVR(kernel='linear')"
      ]
     },
     "execution_count": 86,
     "metadata": {},
     "output_type": "execute_result"
    }
   ],
   "source": [
    "m4.fit(x_train1,y_train1)"
   ]
  },
  {
   "cell_type": "code",
   "execution_count": 87,
   "id": "b553470d",
   "metadata": {},
   "outputs": [
    {
     "data": {
      "text/plain": [
       "0.5257814641134391"
      ]
     },
     "execution_count": 87,
     "metadata": {},
     "output_type": "execute_result"
    }
   ],
   "source": [
    "m4.score(x_test1,y_test1)"
   ]
  },
  {
   "cell_type": "code",
   "execution_count": 88,
   "id": "90bbc7b2",
   "metadata": {},
   "outputs": [],
   "source": [
    "m5=DecisionTreeRegressor()"
   ]
  },
  {
   "cell_type": "code",
   "execution_count": 89,
   "id": "36a7406f",
   "metadata": {},
   "outputs": [
    {
     "data": {
      "text/plain": [
       "DecisionTreeRegressor()"
      ]
     },
     "execution_count": 89,
     "metadata": {},
     "output_type": "execute_result"
    }
   ],
   "source": [
    "m5.fit(x_train1,y_train1)"
   ]
  },
  {
   "cell_type": "code",
   "execution_count": 90,
   "id": "b509780d",
   "metadata": {},
   "outputs": [
    {
     "data": {
      "text/plain": [
       "0.5154566535894038"
      ]
     },
     "execution_count": 90,
     "metadata": {},
     "output_type": "execute_result"
    }
   ],
   "source": [
    "m5.score(x_test1,y_test1)"
   ]
  },
  {
   "cell_type": "code",
   "execution_count": 91,
   "id": "03dd2e64",
   "metadata": {},
   "outputs": [],
   "source": [
    "m6=RandomForestRegressor(n_estimators=500,bootstrap=True,criterion='mse',max_features='auto',max_depth=40,min_samples_split=30,min_samples_leaf=15)"
   ]
  },
  {
   "cell_type": "code",
   "execution_count": 92,
   "id": "68567434",
   "metadata": {
    "scrolled": true
   },
   "outputs": [
    {
     "name": "stderr",
     "output_type": "stream",
     "text": [
      "C:\\Users\\Dhanush Thokala\\AppData\\Roaming\\Python\\Python39\\site-packages\\sklearn\\ensemble\\_forest.py:396: FutureWarning: Criterion 'mse' was deprecated in v1.0 and will be removed in version 1.2. Use `criterion='squared_error'` which is equivalent.\n",
      "  warn(\n"
     ]
    },
    {
     "data": {
      "text/plain": [
       "RandomForestRegressor(criterion='mse', max_depth=40, min_samples_leaf=15,\n",
       "                      min_samples_split=30, n_estimators=500)"
      ]
     },
     "execution_count": 92,
     "metadata": {},
     "output_type": "execute_result"
    }
   ],
   "source": [
    "m6.fit(x_train1,y_train1)"
   ]
  },
  {
   "cell_type": "code",
   "execution_count": 93,
   "id": "f8909912",
   "metadata": {},
   "outputs": [
    {
     "data": {
      "text/plain": [
       "0.6027446313155771"
      ]
     },
     "execution_count": 93,
     "metadata": {},
     "output_type": "execute_result"
    }
   ],
   "source": [
    "m6.score(x_test1,y_test1)"
   ]
  }
 ],
 "metadata": {
  "kernelspec": {
   "display_name": "Python 3 (ipykernel)",
   "language": "python",
   "name": "python3"
  },
  "language_info": {
   "codemirror_mode": {
    "name": "ipython",
    "version": 3
   },
   "file_extension": ".py",
   "mimetype": "text/x-python",
   "name": "python",
   "nbconvert_exporter": "python",
   "pygments_lexer": "ipython3",
   "version": "3.9.5"
  }
 },
 "nbformat": 4,
 "nbformat_minor": 5
}
